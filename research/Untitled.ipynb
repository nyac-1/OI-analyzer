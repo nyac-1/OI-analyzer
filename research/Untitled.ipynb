{
 "cells": [
  {
   "cell_type": "code",
   "execution_count": 2,
   "metadata": {},
   "outputs": [],
   "source": [
    "import numpy as np\n",
    "import pandas as pd\n",
    "import matplotlib.pyplot as plt\n",
    "import seaborn as sns"
   ]
  },
  {
   "cell_type": "code",
   "execution_count": 3,
   "metadata": {},
   "outputs": [],
   "source": [
    "global start\n",
    "start = 10000\n",
    "\n",
    "spot = 10500\n",
    "\n",
    "option1 = {\"strike\":10800,\"premium\":300}\n",
    "option2 = {\"strike\":10500,\"premium\":130}"
   ]
  },
  {
   "cell_type": "code",
   "execution_count": 11,
   "metadata": {},
   "outputs": [],
   "source": [
    "def buy_call(option):\n",
    "    data = []\n",
    "    \n",
    "    for value in range(10000,11500):\n",
    "        \n",
    "        if(value<=option['strike']):\n",
    "            data.append(-1*option['premium'])\n",
    "        else:\n",
    "            data.append(value - option['strike'] - option['premium'])\n",
    "    \n",
    "    return data\n",
    "\n",
    "data = buy(option1)"
   ]
  },
  {
   "cell_type": "code",
   "execution_count": 14,
   "metadata": {},
   "outputs": [],
   "source": [
    "def sell_call(option):\n",
    "    data = []\n",
    "    \n",
    "    for value in range(10000,11500):\n",
    "        \n",
    "        if(value<=option['strike']):\n",
    "            data.append(option['premium'])\n",
    "        else:\n",
    "            data.append(option['strike'] - value + option['premium'])\n",
    "    \n",
    "    return data\n",
    "\n",
    "data = sell(option1)"
   ]
  },
  {
   "cell_type": "code",
   "execution_count": 15,
   "metadata": {},
   "outputs": [
    {
     "data": {
      "text/plain": [
       "[<matplotlib.lines.Line2D at 0x7fd5b27d2100>]"
      ]
     },
     "execution_count": 15,
     "metadata": {},
     "output_type": "execute_result"
    },
    {
     "data": {
      "image/png": "[encoded data removed]",
      "text/plain": [
       "<Figure size 432x288 with 1 Axes>"
      ]
     },
     "metadata": {
      "needs_background": "light"
     },
     "output_type": "display_data"
    }
   ],
   "source": []
  },
  {
   "cell_type": "code",
   "execution_count": null,
   "metadata": {},
   "outputs": [],
   "source": []
  }
 ],
 "metadata": {
  "kernelspec": {
   "display_name": "Python 3",
   "language": "python",
   "name": "python3"
  },
  "language_info": {
   "codemirror_mode": {
    "name": "ipython",
    "version": 3
   },
   "file_extension": ".py",
   "mimetype": "text/x-python",
   "name": "python",
   "nbconvert_exporter": "python",
   "pygments_lexer": "ipython3",
   "version": "3.8.3"
  }
 },
 "nbformat": 4,
 "nbformat_minor": 4
}
