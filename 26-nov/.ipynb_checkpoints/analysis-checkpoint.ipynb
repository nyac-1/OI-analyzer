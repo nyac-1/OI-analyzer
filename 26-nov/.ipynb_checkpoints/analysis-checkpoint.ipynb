{
 "cells": [
  {
   "cell_type": "code",
   "execution_count": null,
   "metadata": {},
   "outputs": [],
   "source": [
    "from nsetools import Nse\n",
    "import numpy as np \n",
    "import pandas as pd\n",
    "import matplotlib.pyplot as plt\n",
    "import seaborn as sns\n",
    "from bs4 import BeautifulSoup\n",
    "import requests\n",
    "import datetime\n",
    "from datetime import datetime\n",
    "import pickle5 as pickle\n",
    "import os\n",
    "import json"
   ]
  },
  {
   "cell_type": "code",
   "execution_count": null,
   "metadata": {},
   "outputs": [],
   "source": [
    "with open(\"test.txt\", \"rb\") as fp:\n",
    "    history = pickle.load(fp)"
   ]
  },
  {
   "cell_type": "code",
   "execution_count": null,
   "metadata": {},
   "outputs": [],
   "source": [
    "history"
   ]
  },
  {
   "cell_type": "code",
   "execution_count": null,
   "metadata": {},
   "outputs": [],
   "source": [
    "for item in history:\n",
    "    datetime_object = datetime.strptime(item['time'], '%H:%M:%S')\n",
    "    "
   ]
  },
  {
   "cell_type": "code",
   "execution_count": null,
   "metadata": {},
   "outputs": [],
   "source": [
    "woah = datetime.strptime('10:02:20', '%H:%M:%S')\n",
    "woah"
   ]
  },
  {
   "cell_type": "code",
   "execution_count": null,
   "metadata": {},
   "outputs": [],
   "source": [
    "(datetime_object-woah).seconds"
   ]
  },
  {
   "cell_type": "code",
   "execution_count": null,
   "metadata": {},
   "outputs": [],
   "source": [
    "datetime_object"
   ]
  },
  {
   "cell_type": "code",
   "execution_count": null,
   "metadata": {},
   "outputs": [],
   "source": [
    "12876/60\n",
    "\n",
    "datetime.strptime(history[i]['time'], '%H:%M:%S')"
   ]
  },
  {
   "cell_type": "code",
   "execution_count": null,
   "metadata": {},
   "outputs": [],
   "source": [
    "def get_change(history):\n",
    "    data = list()\n",
    "    \n",
    "    for i in range(1,len(history)):\n",
    "        delta = float(((datetime.strptime(history[i]['time'], '%H:%M:%S') - datetime.strptime(history[i-1]['time'], '%H:%M:%S')).seconds)/60)\n",
    "        ce_normaldiff = float((history[i]['CE_CHOI'] - history[i-1]['CE_CHOI'])/delta)\n",
    "        pe_normaldiff = float((history[i]['PE_CHOI'] - history[i-1]['PE_CHOI'])/delta)\n",
    "        \n",
    "        try:\n",
    "            pcr = float(pe_normaldiff/ce_normaldiff)\n",
    "        except:\n",
    "            pcr = np.nan\n",
    "        dic = {\n",
    "            \"ce_normaldiff\": ce_normaldiff,\n",
    "            \"pe_normaldiff\": pe_normaldiff,\n",
    "            \"pcr_in_window\": pcr,\n",
    "            \"nifty_start\": history[i-1]['nifty'],\n",
    "            \"nifty_end\": history[i]['nifty'],\n",
    "            \"start_time\": history[i-1]['time'],\n",
    "            \"end_time\": history[i]['time']\n",
    "        }\n",
    "        \n",
    "        data.append(dic)\n",
    "    return data"
   ]
  },
  {
   "cell_type": "code",
   "execution_count": null,
   "metadata": {},
   "outputs": [],
   "source": [
    "get_change(history)"
   ]
  },
  {
   "cell_type": "code",
   "execution_count": null,
   "metadata": {},
   "outputs": [],
   "source": [
    "history"
   ]
  },
  {
   "cell_type": "code",
   "execution_count": null,
   "metadata": {},
   "outputs": [],
   "source": []
  }
 ],
 "metadata": {
  "kernelspec": {
   "display_name": "Python 3",
   "language": "python",
   "name": "python3"
  },
  "language_info": {
   "codemirror_mode": {
    "name": "ipython",
    "version": 3
   },
   "file_extension": ".py",
   "mimetype": "text/x-python",
   "name": "python",
   "nbconvert_exporter": "python",
   "pygments_lexer": "ipython3",
   "version": "3.8.3"
  }
 },
 "nbformat": 4,
 "nbformat_minor": 4
}
