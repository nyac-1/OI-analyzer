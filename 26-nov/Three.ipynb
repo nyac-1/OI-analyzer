{
 "cells": [
  {
   "cell_type": "code",
   "execution_count": 1,
   "metadata": {},
   "outputs": [],
   "source": [
    "from nsetools import Nse\n",
    "import numpy as np \n",
    "import pandas as pd\n",
    "import matplotlib.pyplot as plt\n",
    "import seaborn as sns\n",
    "from bs4 import BeautifulSoup\n",
    "import requests\n",
    "import datetime\n",
    "from datetime import datetime\n",
    "import pickle5 as pickle\n",
    "import os\n",
    "import json"
   ]
  },
  {
   "cell_type": "code",
   "execution_count": 2,
   "metadata": {},
   "outputs": [],
   "source": [
    "url = \"https://www1.nseindia.com/live_market/dynaContent/live_watch/option_chain/optionKeys.jsp\"\n",
    "now = datetime.now().strftime(\"%H:%M:%S\")\n",
    "history = list()\n",
    "\n",
    "#Create dataframe\n",
    "strikes = [50*i for i in range(220,281)]\n",
    "df=pd.DataFrame(columns = ['strike_price'], index = strikes)\n",
    "for i in strikes:\n",
    "    df.loc[i,'strike_price'] = i"
   ]
  },
  {
   "cell_type": "code",
   "execution_count": 3,
   "metadata": {},
   "outputs": [],
   "source": [
    "def get_soup(url):\n",
    "    response = requests.get(url,headers={'User-Agent':'Mozilla/5.0'})\n",
    "    if(response.status_code != 200):\n",
    "        print('Illegal URL')\n",
    "        return None\n",
    "    soup = BeautifulSoup(response.text,'lxml')\n",
    "    print(\"Soup generation. 200!\")\n",
    "    return soup"
   ]
  },
  {
   "cell_type": "code",
   "execution_count": 4,
   "metadata": {},
   "outputs": [],
   "source": [
    "def get_nifty(soup):\n",
    "    try:\n",
    "        val1 = soup.find_all('span')[0].text.split()[-1]\n",
    "        val2 = soup.find_all('span')[1].text.split()[-2]\n",
    "        return ({'nifty':val1,'time':val2})\n",
    "    except:\n",
    "        print(\"Bad request\")\n",
    "        return None"
   ]
  },
  {
   "cell_type": "code",
   "execution_count": 5,
   "metadata": {},
   "outputs": [],
   "source": [
    "def insert_values(soup, nifty, dataframe):\n",
    "    cols = [\n",
    "        'CE_OI_@'+nifty['time'],\n",
    "        'CE_CHOI_@'+nifty['time'],\n",
    "        'CE_IV_@'+nifty['time'],\n",
    "        'CE_LTP_@'+nifty['time'],\n",
    "        'PE_OI_@'+nifty['time'],\n",
    "        'PE_CHOI_@'+nifty['time'],\n",
    "        'PE_IV_@'+nifty['time'],\n",
    "        'PE_LTP_@'+nifty['time'],\n",
    "        'NIFTY@'+nifty['time'],\n",
    "        'CE_VOL_@'+nifty['time'],\n",
    "        'PE_VOL_@'+nifty['time']\n",
    "    ]\n",
    "    \n",
    "    for col in cols:\n",
    "        dataframe[col] = np.nan\n",
    "    \n",
    "    for one in soup.find_all('div',{'class':'opttbldata'})[0].find_all('tr')[2:-1]:\n",
    "        one = one.find_all('td')\n",
    "        strike = one[11].text\n",
    "        if(int(float(strike)) not in list(df['strike_price'])):\n",
    "            continue\n",
    "        values = dict()\n",
    "        values[cols[0]] = one[1].text\n",
    "        values[cols[1]] = one[2].text\n",
    "        values[cols[2]] = one[4].text\n",
    "        values[cols[3]] = one[5].text\n",
    "        values[cols[4]] = one[21].text\n",
    "        values[cols[5]] = one[20].text\n",
    "        values[cols[6]] = one[18].text\n",
    "        values[cols[7]] = one[17].text\n",
    "        values[cols[8]] = nifty['nifty']\n",
    "        values[cols[9]] = one[3].text\n",
    "        values[cols[10]] = one[19].text\n",
    "    \n",
    "        for key in values:\n",
    "            values[key] = values[key].replace(\" \",\"\")\n",
    "            values[key] = values[key].replace(\"\\t\",\"\")\n",
    "            values[key] = values[key].replace(\"\\n\",\"\")\n",
    "            values[key] = values[key].replace(\"\\r\",\"\")\n",
    "            values[key] = values[key].replace(\"\\n\",\"\")\n",
    "            values[key] = values[key].replace(\",\",\"\")\n",
    "            try: \n",
    "                values[key] = float(values[key])\n",
    "            except:\n",
    "                values[key] = np.nan\n",
    "            \n",
    "            dataframe.loc[int(float(strike)),key] = values[key]\n",
    "\n",
    "    return dataframe"
   ]
  },
  {
   "cell_type": "code",
   "execution_count": 6,
   "metadata": {},
   "outputs": [],
   "source": [
    "def get_sum_n_atm_options(dataframe, size, nifty):\n",
    "    nifty['nifty'] = int(float(nifty['nifty']))\n",
    "    strike = nifty['nifty']-nifty['nifty']%50\n",
    "    curtime = nifty['time']\n",
    "    \n",
    "    subdf = df.loc[strike-size*50:strike+size*50,'CE_OI_@'+curtime:]\n",
    "    sums = dict()\n",
    "    sums['CE_CHOI'] = subdf.loc[:,'CE_CHOI_@'+curtime].sum()\n",
    "    sums['PE_CHOI'] = subdf.loc[:,'PE_CHOI_@'+curtime].sum()\n",
    "    sums['CE_OI'] = subdf.loc[:,'CE_OI_@'+curtime].sum()\n",
    "    sums['PE_OI'] = subdf.loc[:,'PE_OI_@'+curtime].sum()\n",
    "    sums['ce_ratio']=sums['CE_CHOI']/sums['CE_OI']\n",
    "    sums['pe_ratio']=sums['PE_CHOI']/sums['PE_OI']\n",
    "    sums['pe_ce_choi_diff'] = subdf.loc[:,'PE_CHOI_@'+curtime].sum() - subdf.loc[:,'CE_CHOI_@'+curtime].sum()\n",
    "    sums['nifty'] = nifty['nifty']\n",
    "    sums['time'] = nifty['time']\n",
    "    \n",
    "    return sums"
   ]
  },
  {
   "cell_type": "code",
   "execution_count": 190,
   "metadata": {},
   "outputs": [
    {
     "name": "stdout",
     "output_type": "stream",
     "text": [
      "Soup generation. 200!\n",
      "{'nifty': '12819.55', 'time': '11:54:23'}\n"
     ]
    }
   ],
   "source": [
    "soup = get_soup(url)\n",
    "nifty = get_nifty(soup)\n",
    "print(nifty)"
   ]
  },
  {
   "cell_type": "code",
   "execution_count": 191,
   "metadata": {},
   "outputs": [],
   "source": [
    "df=insert_values(soup, nifty, df)"
   ]
  },
  {
   "cell_type": "code",
   "execution_count": 192,
   "metadata": {
    "scrolled": false
   },
   "outputs": [
    {
     "name": "stdout",
     "output_type": "stream",
     "text": [
      "{'CE_CHOI': 19725825.0, 'PE_CHOI': 11853750.0, 'CE_OI': 32846775.0, 'PE_OI': 29227050.0, 'ce_ratio': 0.6005406923510755, 'pe_ratio': 0.40557463035099334, 'pe_ce_choi_diff': -7872075.0, 'nifty': 12819, 'time': '11:54:23'}\n"
     ]
    }
   ],
   "source": [
    "sumsHistory = get_sum_n_atm_options(df, 5, nifty)\n",
    "print(sumsHistory)"
   ]
  },
  {
   "cell_type": "code",
   "execution_count": 193,
   "metadata": {
    "scrolled": true
   },
   "outputs": [
    {
     "name": "stdout",
     "output_type": "stream",
     "text": [
      "Unique data entered!\n",
      "\n"
     ]
    },
    {
     "data": {
      "text/plain": [
       "[{'CE_CHOI': 0.0,\n",
       "  'PE_CHOI': 0.0,\n",
       "  'CE_OI': 16852500.0,\n",
       "  'PE_OI': 17424075.0,\n",
       "  'ce_ratio': 0.0,\n",
       "  'pe_ratio': 0.0,\n",
       "  'pe_ce_choi_diff': 0.0,\n",
       "  'nifty': 12894,\n",
       "  'time': '09:15:49'},\n",
       " {'CE_CHOI': 422550.0,\n",
       "  'PE_CHOI': -6000.0,\n",
       "  'CE_OI': 18597450.0,\n",
       "  'PE_OI': 15054900.0,\n",
       "  'ce_ratio': 0.02272085689167063,\n",
       "  'pe_ratio': -0.0003985413387003567,\n",
       "  'pe_ce_choi_diff': -428550.0,\n",
       "  'nifty': 12909,\n",
       "  'time': '09:18:19'},\n",
       " {'CE_CHOI': 3092400.0,\n",
       "  'PE_CHOI': 2754900.0,\n",
       "  'CE_OI': 19944900.0,\n",
       "  'PE_OI': 20178975.0,\n",
       "  'ce_ratio': 0.15504715491178195,\n",
       "  'pe_ratio': 0.13652328723337037,\n",
       "  'pe_ce_choi_diff': -337500.0,\n",
       "  'nifty': 12859,\n",
       "  'time': '09:21:49'},\n",
       " {'CE_CHOI': 4881075.0,\n",
       "  'PE_CHOI': 3929175.0,\n",
       "  'CE_OI': 21733575.0,\n",
       "  'PE_OI': 21353250.0,\n",
       "  'ce_ratio': 0.22458684316777153,\n",
       "  'pe_ratio': 0.18400828913631415,\n",
       "  'pe_ce_choi_diff': -951900.0,\n",
       "  'nifty': 12866,\n",
       "  'time': '09:23:20'},\n",
       " {'CE_CHOI': 6760575.0,\n",
       "  'PE_CHOI': 5378700.0,\n",
       "  'CE_OI': 23613075.0,\n",
       "  'PE_OI': 22802775.0,\n",
       "  'ce_ratio': 0.28630642133648415,\n",
       "  'pe_ratio': 0.23587918575699668,\n",
       "  'pe_ce_choi_diff': -1381875.0,\n",
       "  'nifty': 12866,\n",
       "  'time': '09:27:50'},\n",
       " {'CE_CHOI': 7561275.0,\n",
       "  'PE_CHOI': 6150900.0,\n",
       "  'CE_OI': 24413775.0,\n",
       "  'PE_OI': 23574975.0,\n",
       "  'ce_ratio': 0.3097134711858367,\n",
       "  'pe_ratio': 0.2609080179300296,\n",
       "  'pe_ce_choi_diff': -1410375.0,\n",
       "  'nifty': 12891,\n",
       "  'time': '09:30:50'},\n",
       " {'CE_CHOI': 8050575.0,\n",
       "  'PE_CHOI': 5469825.0,\n",
       "  'CE_OI': 26225475.0,\n",
       "  'PE_OI': 20530725.0,\n",
       "  'ce_ratio': 0.3069753741352635,\n",
       "  'pe_ratio': 0.26642142447478107,\n",
       "  'pe_ce_choi_diff': -2580750.0,\n",
       "  'nifty': 12901,\n",
       "  'time': '09:32:20'},\n",
       " {'CE_CHOI': 8572875.0,\n",
       "  'PE_CHOI': 7592925.0,\n",
       "  'CE_OI': 25425375.0,\n",
       "  'PE_OI': 25017000.0,\n",
       "  'ce_ratio': 0.33717791772982697,\n",
       "  'pe_ratio': 0.3035106127833074,\n",
       "  'pe_ce_choi_diff': -979950.0,\n",
       "  'nifty': 12886,\n",
       "  'time': '09:35:50'},\n",
       " {'CE_CHOI': 9159900.0,\n",
       "  'PE_CHOI': 8023950.0,\n",
       "  'CE_OI': 26012400.0,\n",
       "  'PE_OI': 25448025.0,\n",
       "  'ce_ratio': 0.35213590441481757,\n",
       "  'pe_ratio': 0.3153073765056424,\n",
       "  'pe_ce_choi_diff': -1135950.0,\n",
       "  'nifty': 12862,\n",
       "  'time': '09:39:50'},\n",
       " {'CE_CHOI': 7894875.0,\n",
       "  'PE_CHOI': 8172075.0,\n",
       "  'CE_OI': 21015825.0,\n",
       "  'PE_OI': 25545375.0,\n",
       "  'ce_ratio': 0.3756633394120859,\n",
       "  'pe_ratio': 0.31990428795819204,\n",
       "  'pe_ce_choi_diff': 277200.0,\n",
       "  'nifty': 12843,\n",
       "  'time': '09:43:20'},\n",
       " {'CE_CHOI': 8822175.0,\n",
       "  'PE_CHOI': 7852650.0,\n",
       "  'CE_OI': 21943125.0,\n",
       "  'PE_OI': 25225950.0,\n",
       "  'ce_ratio': 0.40204733828932754,\n",
       "  'pe_ratio': 0.3112925380411838,\n",
       "  'pe_ce_choi_diff': -969525.0,\n",
       "  'nifty': 12829,\n",
       "  'time': '09:46:50'},\n",
       " {'CE_CHOI': 9555150.0,\n",
       "  'PE_CHOI': 7733025.0,\n",
       "  'CE_OI': 22676100.0,\n",
       "  'PE_OI': 25106325.0,\n",
       "  'ce_ratio': 0.4213753687803458,\n",
       "  'pe_ratio': 0.30801102909326633,\n",
       "  'pe_ce_choi_diff': -1822125.0,\n",
       "  'nifty': 12816,\n",
       "  'time': '09:50:20'},\n",
       " {'CE_CHOI': 11116275.0,\n",
       "  'PE_CHOI': 7945575.0,\n",
       "  'CE_OI': 24237225.0,\n",
       "  'PE_OI': 25318875.0,\n",
       "  'ce_ratio': 0.45864470870737056,\n",
       "  'pe_ratio': 0.3138202230549343,\n",
       "  'pe_ce_choi_diff': -3170700.0,\n",
       "  'nifty': 12827,\n",
       "  'time': '09:54:20'},\n",
       " {'CE_CHOI': 11581950.0,\n",
       "  'PE_CHOI': 8002275.0,\n",
       "  'CE_OI': 24702900.0,\n",
       "  'PE_OI': 25375575.0,\n",
       "  'ce_ratio': 0.46884981115577523,\n",
       "  'pe_ratio': 0.31535344519286757,\n",
       "  'pe_ce_choi_diff': -3579675.0,\n",
       "  'nifty': 12842,\n",
       "  'time': '09:57:20'},\n",
       " {'CE_CHOI': 13003950.0,\n",
       "  'PE_CHOI': 7690800.0,\n",
       "  'CE_OI': 26124900.0,\n",
       "  'PE_OI': 25064100.0,\n",
       "  'ce_ratio': 0.4977607569789741,\n",
       "  'pe_ratio': 0.30684524878212266,\n",
       "  'pe_ce_choi_diff': -5313150.0,\n",
       "  'nifty': 12818,\n",
       "  'time': '10:06:51'},\n",
       " {'CE_CHOI': 13461150.0,\n",
       "  'PE_CHOI': 8014200.0,\n",
       "  'CE_OI': 26582100.0,\n",
       "  'PE_OI': 25387500.0,\n",
       "  'ce_ratio': 0.5063990429650027,\n",
       "  'pe_ratio': 0.3156750369276219,\n",
       "  'pe_ce_choi_diff': -5446950.0,\n",
       "  'nifty': 12816,\n",
       "  'time': '10:08:21'},\n",
       " {'CE_CHOI': 16988775.0,\n",
       "  'PE_CHOI': 8580900.0,\n",
       "  'CE_OI': 33841275.0,\n",
       "  'PE_OI': 26004975.0,\n",
       "  'ce_ratio': 0.502013443642416,\n",
       "  'pe_ratio': 0.3299714766116868,\n",
       "  'pe_ce_choi_diff': -8407875.0,\n",
       "  'nifty': 12851,\n",
       "  'time': '10:18:21'},\n",
       " {'CE_CHOI': 14163150.0,\n",
       "  'PE_CHOI': 9111150.0,\n",
       "  'CE_OI': 27284100.0,\n",
       "  'PE_OI': 26484450.0,\n",
       "  'ce_ratio': 0.5190990357021122,\n",
       "  'pe_ratio': 0.3440188487961804,\n",
       "  'pe_ce_choi_diff': -5052000.0,\n",
       "  'nifty': 12844,\n",
       "  'time': '10:22:21'},\n",
       " {'CE_CHOI': 14357850.0,\n",
       "  'PE_CHOI': 9465825.0,\n",
       "  'CE_OI': 27478800.0,\n",
       "  'PE_OI': 26839125.0,\n",
       "  'ce_ratio': 0.5225064413293157,\n",
       "  'pe_ratio': 0.3526875410431599,\n",
       "  'pe_ce_choi_diff': -4892025.0,\n",
       "  'nifty': 12838,\n",
       "  'time': '10:25:51'},\n",
       " {'CE_CHOI': 15296325.0,\n",
       "  'PE_CHOI': 9639450.0,\n",
       "  'CE_OI': 28417275.0,\n",
       "  'PE_OI': 27012750.0,\n",
       "  'ce_ratio': 0.5382755735727651,\n",
       "  'pe_ratio': 0.3568481550378988,\n",
       "  'pe_ce_choi_diff': -5656875.0,\n",
       "  'nifty': 12832,\n",
       "  'time': '10:34:21'},\n",
       " {'CE_CHOI': 15580575.0,\n",
       "  'PE_CHOI': 9903375.0,\n",
       "  'CE_OI': 28701525.0,\n",
       "  'PE_OI': 27276675.0,\n",
       "  'ce_ratio': 0.5428483329718543,\n",
       "  'pe_ratio': 0.3630711954444594,\n",
       "  'pe_ce_choi_diff': -5677200.0,\n",
       "  'nifty': 12844,\n",
       "  'time': '10:39:51'},\n",
       " {'CE_CHOI': 17022825.0,\n",
       "  'PE_CHOI': 11411250.0,\n",
       "  'CE_OI': 30143775.0,\n",
       "  'PE_OI': 28784550.0,\n",
       "  'ce_ratio': 0.564721074251649,\n",
       "  'pe_ratio': 0.39643663006717145,\n",
       "  'pe_ce_choi_diff': -5611575.0,\n",
       "  'nifty': 12845,\n",
       "  'time': '11:03:52'},\n",
       " {'CE_CHOI': 18832800.0,\n",
       "  'PE_CHOI': 12723150.0,\n",
       "  'CE_OI': 31953750.0,\n",
       "  'PE_OI': 30096450.0,\n",
       "  'ce_ratio': 0.5893768337049642,\n",
       "  'pe_ratio': 0.42274587202145103,\n",
       "  'pe_ce_choi_diff': -6109650.0,\n",
       "  'nifty': 12832,\n",
       "  'time': '11:38:53'},\n",
       " {'CE_CHOI': 19725825.0,\n",
       "  'PE_CHOI': 11853750.0,\n",
       "  'CE_OI': 32846775.0,\n",
       "  'PE_OI': 29227050.0,\n",
       "  'ce_ratio': 0.6005406923510755,\n",
       "  'pe_ratio': 0.40557463035099334,\n",
       "  'pe_ce_choi_diff': -7872075.0,\n",
       "  'nifty': 12819,\n",
       "  'time': '11:54:23'}]"
      ]
     },
     "execution_count": 193,
     "metadata": {},
     "output_type": "execute_result"
    }
   ],
   "source": [
    "if history[-1]['CE_CHOI'] == sumsHistory['CE_CHOI'] and history[-1]['PE_CHOI'] == sumsHistory['PE_CHOI']:\n",
    "        print(\"Similar data exists \\nTime of exec :\", nifty['time'])\n",
    "else:\n",
    "    print(\"Unique data entered!\\n\")\n",
    "    history.append(sumsHistory)\n",
    "history"
   ]
  },
  {
   "cell_type": "code",
   "execution_count": 194,
   "metadata": {},
   "outputs": [],
   "source": [
    "plotdf = pd.DataFrame(columns=['time','choi_diff'])\n",
    "x = list()\n",
    "y = list()\n",
    "for i in range(len(history)):\n",
    "    plotdf.loc[i,'time'] = history[i]['time']\n",
    "    x.append(history[i]['time'])\n",
    "    plotdf.loc[i,'choi_diff'] = history[i]['pe_ce_choi_diff']\n",
    "    y.append(history[i]['pe_ce_choi_diff'])"
   ]
  },
  {
   "cell_type": "code",
   "execution_count": 195,
   "metadata": {},
   "outputs": [
    {
     "data": {
      "image/png": "[encoded data removed]",
      "text/plain": [
       "<Figure size 432x288 with 1 Axes>"
      ]
     },
     "metadata": {
      "needs_background": "light"
     },
     "output_type": "display_data"
    }
   ],
   "source": [
    "plotdf.plot()\n",
    "plt.show()"
   ]
  },
  {
   "cell_type": "code",
   "execution_count": 196,
   "metadata": {},
   "outputs": [],
   "source": [
    "with open(\"test.txt\", \"wb\") as fp:\n",
    "    pickle.dump(history, fp)\n",
    "\n",
    "df.to_csv('26-11-2020.csv',index=False)"
   ]
  },
  {
   "cell_type": "code",
   "execution_count": 197,
   "metadata": {},
   "outputs": [],
   "source": [
    "import datetime\n",
    "x = [datetime.datetime.now() + datetime.timedelta(hours=i) for i in range(12)]"
   ]
  },
  {
   "cell_type": "code",
   "execution_count": null,
   "metadata": {},
   "outputs": [],
   "source": [
    "datetime_object = datetime.datetime.strptime(nifty['time'], '%H:%M:%S').time()"
   ]
  },
  {
   "cell_type": "code",
   "execution_count": null,
   "metadata": {},
   "outputs": [],
   "source": [
    "datetime_object"
   ]
  },
  {
   "cell_type": "code",
   "execution_count": null,
   "metadata": {},
   "outputs": [],
   "source": []
  },
  {
   "cell_type": "code",
   "execution_count": null,
   "metadata": {},
   "outputs": [],
   "source": []
  }
 ],
 "metadata": {
  "kernelspec": {
   "display_name": "Python 3",
   "language": "python",
   "name": "python3"
  },
  "language_info": {
   "codemirror_mode": {
    "name": "ipython",
    "version": 3
   },
   "file_extension": ".py",
   "mimetype": "text/x-python",
   "name": "python",
   "nbconvert_exporter": "python",
   "pygments_lexer": "ipython3",
   "version": "3.8.3"
  }
 },
 "nbformat": 4,
 "nbformat_minor": 4
}
