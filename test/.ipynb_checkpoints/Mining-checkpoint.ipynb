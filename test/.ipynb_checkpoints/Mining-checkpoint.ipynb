{
 "cells": [
  {
   "cell_type": "code",
   "execution_count": 1,
   "metadata": {},
   "outputs": [],
   "source": [
    "from nsetools import Nse\n",
    "import numpy as np \n",
    "import pandas as pd\n",
    "import matplotlib.pyplot as plt\n",
    "import seaborn as sns\n",
    "from bs4 import BeautifulSoup\n",
    "import requests\n",
    "import datetime as dt\n",
    "from datetime import datetime\n",
    "import pickle5 as pickle\n",
    "import threading\n",
    "import os\n",
    "import json\n",
    "import time"
   ]
  },
  {
   "cell_type": "code",
   "execution_count": 2,
   "metadata": {},
   "outputs": [],
   "source": [
    "url = \"https://www1.nseindia.com/live_market/dynaContent/live_watch/option_chain/optionKeys.jsp\"\n",
    "curtime = datetime.now().strftime(\"%H:%M:%S\")\n",
    "\n",
    "#Create dataframe\n",
    "strikes = [50*i for i in range(220,281)]\n",
    "df=pd.DataFrame(columns = ['strike_price'], index = strikes)\n",
    "for i in strikes:\n",
    "    df.loc[i,'strike_price'] = i"
   ]
  },
  {
   "cell_type": "code",
   "execution_count": 3,
   "metadata": {},
   "outputs": [],
   "source": [
    "def get_soup(url):\n",
    "    response = requests.get(url,headers={'User-Agent':'Mozilla/5.0'})\n",
    "    if(response.status_code != 200):\n",
    "        print('Illegal URL')\n",
    "        return None\n",
    "    soup = BeautifulSoup(response.text,'lxml')\n",
    "    print(\"Soup generation. 200!\")\n",
    "    return soup"
   ]
  },
  {
   "cell_type": "code",
   "execution_count": 4,
   "metadata": {},
   "outputs": [],
   "source": [
    "def get_nifty(soup):\n",
    "    try:\n",
    "        val1 = soup.find_all('span')[0].text.split()[-1]\n",
    "        val2 = soup.find_all('span')[1].text.split()[-2]\n",
    "        return ({'nifty':val1,'time':val2})\n",
    "    except:\n",
    "        print(\"Bad request\")\n",
    "        return None"
   ]
  },
  {
   "cell_type": "code",
   "execution_count": 5,
   "metadata": {},
   "outputs": [],
   "source": [
    "def insert_values(soup, nifty, dataframe):\n",
    "    cols = [\n",
    "        'CE_OI_@'+nifty['time'],\n",
    "        'CE_CHOI_@'+nifty['time'],\n",
    "        'CE_IV_@'+nifty['time'],\n",
    "        'CE_LTP_@'+nifty['time'],\n",
    "        'PE_OI_@'+nifty['time'],\n",
    "        'PE_CHOI_@'+nifty['time'],\n",
    "        'PE_IV_@'+nifty['time'],\n",
    "        'PE_LTP_@'+nifty['time'],\n",
    "        'NIFTY@'+nifty['time'],\n",
    "        'CE_VOL_@'+nifty['time'],\n",
    "        'PE_VOL_@'+nifty['time']\n",
    "    ]\n",
    "    \n",
    "    for col in cols:\n",
    "        dataframe[col] = np.nan\n",
    "    \n",
    "    for one in soup.find_all('div',{'class':'opttbldata'})[0].find_all('tr')[2:-1]:\n",
    "        one = one.find_all('td')\n",
    "        strike = one[11].text\n",
    "        if(int(float(strike)) not in list(df['strike_price'])):\n",
    "            continue\n",
    "        values = dict()\n",
    "        values[cols[0]] = one[1].text\n",
    "        values[cols[1]] = one[2].text\n",
    "        values[cols[2]] = one[4].text\n",
    "        values[cols[3]] = one[5].text\n",
    "        values[cols[4]] = one[21].text\n",
    "        values[cols[5]] = one[20].text\n",
    "        values[cols[6]] = one[18].text\n",
    "        values[cols[7]] = one[17].text\n",
    "        values[cols[8]] = nifty['nifty']\n",
    "        values[cols[9]] = one[3].text\n",
    "        values[cols[10]] = one[19].text\n",
    "    \n",
    "        for key in values:\n",
    "            values[key] = values[key].replace(\" \",\"\")\n",
    "            values[key] = values[key].replace(\"\\t\",\"\")\n",
    "            values[key] = values[key].replace(\"\\n\",\"\")\n",
    "            values[key] = values[key].replace(\"\\r\",\"\")\n",
    "            values[key] = values[key].replace(\"\\n\",\"\")\n",
    "            values[key] = values[key].replace(\",\",\"\")\n",
    "            try: \n",
    "                values[key] = float(values[key])\n",
    "            except:\n",
    "                values[key] = np.nan\n",
    "            \n",
    "            dataframe.loc[int(float(strike)),key] = values[key]\n",
    "\n",
    "    return dataframe"
   ]
  },
  {
   "cell_type": "code",
   "execution_count": 6,
   "metadata": {},
   "outputs": [],
   "source": [
    "def automation(curtime, df):\n",
    "    \n",
    "    soup = get_soup(url)\n",
    "    nifty = get_nifty(soup)\n",
    "    print(nifty)\n",
    "    \n",
    "    if(curtime == nifty['time']):\n",
    "        print(\"Failed to add! time:\"+curtime)\n",
    "        return curtime,df\n",
    "    else:\n",
    "        cutime = nifty['time']\n",
    "        \n",
    "    df=insert_values(soup, nifty, df)\n",
    "    df.to_csv('date.csv',index=False)\n",
    "    \n",
    "    return nifty['time'],df"
   ]
  },
  {
   "cell_type": "code",
   "execution_count": 7,
   "metadata": {},
   "outputs": [
    {
     "name": "stdout",
     "output_type": "stream",
     "text": [
      "Soup generation. 200!\n",
      "{'nifty': '12968.95', 'time': '15:30:28'}\n",
      "Soup generation. 200!\n",
      "{'nifty': '12968.95', 'time': '15:30:28'}\n",
      "Failed to add! time:15:30:28\n",
      "Soup generation. 200!\n",
      "{'nifty': '12968.95', 'time': '15:30:28'}\n",
      "Failed to add! time:15:30:28\n",
      "Soup generation. 200!\n",
      "{'nifty': '12968.95', 'time': '15:30:28'}\n",
      "Failed to add! time:15:30:28\n"
     ]
    },
    {
     "ename": "KeyboardInterrupt",
     "evalue": "",
     "output_type": "error",
     "traceback": [
      "\u001b[0;31m---------------------------------------------------------------------------\u001b[0m",
      "\u001b[0;31mKeyboardInterrupt\u001b[0m                         Traceback (most recent call last)",
      "\u001b[0;32m<ipython-input-7-94ca25e06d81>\u001b[0m in \u001b[0;36m<module>\u001b[0;34m\u001b[0m\n\u001b[1;32m      1\u001b[0m \u001b[0;32mwhile\u001b[0m \u001b[0;32mTrue\u001b[0m\u001b[0;34m:\u001b[0m\u001b[0;34m\u001b[0m\u001b[0;34m\u001b[0m\u001b[0m\n\u001b[1;32m      2\u001b[0m     \u001b[0mcurtime\u001b[0m\u001b[0;34m,\u001b[0m\u001b[0mdf\u001b[0m \u001b[0;34m=\u001b[0m \u001b[0mautomation\u001b[0m\u001b[0;34m(\u001b[0m\u001b[0mcurtime\u001b[0m\u001b[0;34m,\u001b[0m \u001b[0mdf\u001b[0m\u001b[0;34m)\u001b[0m\u001b[0;34m\u001b[0m\u001b[0;34m\u001b[0m\u001b[0m\n\u001b[0;32m----> 3\u001b[0;31m     \u001b[0mtime\u001b[0m\u001b[0;34m.\u001b[0m\u001b[0msleep\u001b[0m\u001b[0;34m(\u001b[0m\u001b[0;36m5\u001b[0m\u001b[0;34m)\u001b[0m\u001b[0;34m\u001b[0m\u001b[0;34m\u001b[0m\u001b[0m\n\u001b[0m",
      "\u001b[0;31mKeyboardInterrupt\u001b[0m: "
     ]
    }
   ],
   "source": [
    "while True:\n",
    "    curtime,df = automation(curtime, df)\n",
    "    time.sleep()"
   ]
  },
  {
   "cell_type": "code",
   "execution_count": null,
   "metadata": {},
   "outputs": [],
   "source": []
  }
 ],
 "metadata": {
  "kernelspec": {
   "display_name": "Python 3",
   "language": "python",
   "name": "python3"
  },
  "language_info": {
   "codemirror_mode": {
    "name": "ipython",
    "version": 3
   },
   "file_extension": ".py",
   "mimetype": "text/x-python",
   "name": "python",
   "nbconvert_exporter": "python",
   "pygments_lexer": "ipython3",
   "version": "3.8.3"
  }
 },
 "nbformat": 4,
 "nbformat_minor": 4
}
