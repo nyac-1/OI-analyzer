{
 "cells": [
  {
   "cell_type": "code",
   "execution_count": 2,
   "metadata": {},
   "outputs": [],
   "source": [
    "from nsetools import Nse"
   ]
  },
  {
   "cell_type": "code",
   "execution_count": 3,
   "metadata": {},
   "outputs": [],
   "source": [
    "import json"
   ]
  },
  {
   "cell_type": "code",
   "execution_count": 4,
   "metadata": {},
   "outputs": [
    {
     "name": "stdout",
     "output_type": "stream",
     "text": [
      "Driver Class for National Stock Exchange (NSE)\n"
     ]
    }
   ],
   "source": [
    "instance = Nse()\n",
    "print(instance)"
   ]
  },
  {
   "cell_type": "code",
   "execution_count": 5,
   "metadata": {},
   "outputs": [],
   "source": [
    "tcs = instance.get_quote('tcs')"
   ]
  },
  {
   "cell_type": "code",
   "execution_count": 6,
   "metadata": {},
   "outputs": [
    {
     "data": {
      "text/plain": [
       "'TCS'"
      ]
     },
     "execution_count": 6,
     "metadata": {},
     "output_type": "execute_result"
    }
   ],
   "source": [
    "tcs['symbol']"
   ]
  },
  {
   "cell_type": "code",
   "execution_count": 7,
   "metadata": {},
   "outputs": [
    {
     "data": {
      "text/plain": [
       "['NIFTY 50 Pre Open',\n",
       " 'NIFTY 50',\n",
       " 'NIFTY NEXT 50',\n",
       " 'NIFTY100 LIQ 15',\n",
       " 'NIFTY BANK',\n",
       " 'INDIA VIX',\n",
       " 'NIFTY 100',\n",
       " 'NIFTY 500',\n",
       " 'NIFTY MIDCAP 100',\n",
       " 'NIFTY MIDCAP 50',\n",
       " 'NIFTY INFRA',\n",
       " 'NIFTY REALTY',\n",
       " 'NIFTY ENERGY',\n",
       " 'NIFTY FMCG',\n",
       " 'NIFTY MNC',\n",
       " 'NIFTY PHARMA',\n",
       " 'NIFTY PSE',\n",
       " 'NIFTY PSU BANK',\n",
       " 'NIFTY SERV SECTOR',\n",
       " 'NIFTY IT',\n",
       " 'NIFTY SMLCAP 100',\n",
       " 'NIFTY 200',\n",
       " 'NIFTY AUTO',\n",
       " 'NIFTY MEDIA',\n",
       " 'NIFTY METAL',\n",
       " 'NIFTY DIV OPPS 50',\n",
       " 'NIFTY COMMODITIES',\n",
       " 'NIFTY CONSUMPTION',\n",
       " 'NIFTY CPSE',\n",
       " 'NIFTY FIN SERVICE',\n",
       " 'NIFTY GROWSECT 15',\n",
       " 'NIFTY50 VALUE 20',\n",
       " 'NIFTY50 TR 2X LEV',\n",
       " 'NIFTY50 PR 2X LEV',\n",
       " 'NIFTY50 TR 1X INV',\n",
       " 'NIFTY50 PR 1X INV',\n",
       " 'NIFTY ALPHA 50',\n",
       " 'NIFTY50 EQL WGT',\n",
       " 'NIFTY100 EQL WGT',\n",
       " 'NIFTY100 LOWVOL30',\n",
       " 'NIFTY MID LIQ 15',\n",
       " 'NIFTY PVT BANK',\n",
       " 'NIFTY100 QUALTY30',\n",
       " 'NIFTY GS 8 13YR',\n",
       " 'NIFTY GS 10YR',\n",
       " 'NIFTY GS 10YR CLN',\n",
       " 'NIFTY GS 4 8YR',\n",
       " 'NIFTY GS 11 15YR',\n",
       " 'NIFTY GS 15YRPLUS',\n",
       " 'NIFTY GS COMPSITE',\n",
       " 'NIFTY MIDCAP 150',\n",
       " 'NIFTY SMLCAP 50',\n",
       " 'NIFTY SMLCAP 250',\n",
       " 'NIFTY MIDSML 400',\n",
       " 'NIFTY200 QUALTY30']"
      ]
     },
     "execution_count": 7,
     "metadata": {},
     "output_type": "execute_result"
    }
   ],
   "source": [
    "instance.get_index_list()"
   ]
  },
  {
   "cell_type": "code",
   "execution_count": 8,
   "metadata": {},
   "outputs": [
    {
     "ename": "SyntaxError",
     "evalue": "invalid syntax (<ipython-input-8-efa92130feb9>, line 1)",
     "output_type": "error",
     "traceback": [
      "\u001b[0;36m  File \u001b[0;32m\"<ipython-input-8-efa92130feb9>\"\u001b[0;36m, line \u001b[0;32m1\u001b[0m\n\u001b[0;31m    https://www1.nseindia.com/live_market/dynaContent/live_watch/option_chain/optionKeys.jsp?symbolCode=2212&symbol=TCS&symbol=TCS&instrument=OPTSTK&date=-&segmentLink=17&segmentLink=17\u001b[0m\n\u001b[0m          ^\u001b[0m\n\u001b[0;31mSyntaxError\u001b[0m\u001b[0;31m:\u001b[0m invalid syntax\n"
     ]
    }
   ],
   "source": [
    "https://www1.nseindia.com/live_market/dynaContent/live_watch/option_chain/optionKeys.jsp?symbolCode=2212&symbol=TCS&symbol=TCS&instrument=OPTSTK&date=-&segmentLink=17&segmentLink=17"
   ]
  },
  {
   "cell_type": "code",
   "execution_count": 9,
   "metadata": {},
   "outputs": [
    {
     "ename": "SyntaxError",
     "evalue": "invalid syntax (<ipython-input-9-9657c55adeec>, line 1)",
     "output_type": "error",
     "traceback": [
      "\u001b[0;36m  File \u001b[0;32m\"<ipython-input-9-9657c55adeec>\"\u001b[0;36m, line \u001b[0;32m1\u001b[0m\n\u001b[0;31m    https://www1.nseindia.com/live_market/dynaContent/live_watch/option_chain/optionKeys.jsp?symbol=INFY\u001b[0m\n\u001b[0m          ^\u001b[0m\n\u001b[0;31mSyntaxError\u001b[0m\u001b[0;31m:\u001b[0m invalid syntax\n"
     ]
    }
   ],
   "source": [
    "https://www1.nseindia.com/live_market/dynaContent/live_watch/option_chain/optionKeys.jsp?symbol=INFY"
   ]
  },
  {
   "cell_type": "code",
   "execution_count": 10,
   "metadata": {},
   "outputs": [
    {
     "data": {
      "text/plain": [
       "{'pricebandupper': 2926.25,\n",
       " 'symbol': 'TCS',\n",
       " 'applicableMargin': 16.54,\n",
       " 'bcEndDate': None,\n",
       " 'totalSellQuantity': 242190.0,\n",
       " 'adhocMargin': None,\n",
       " 'companyName': 'Tata Consultancy Services Limited',\n",
       " 'marketType': 'N',\n",
       " 'exDate': '26-NOV-20',\n",
       " 'bcStartDate': None,\n",
       " 'css_status_desc': 'Listed',\n",
       " 'dayHigh': 2709.9,\n",
       " 'basePrice': 2660.25,\n",
       " 'securityVar': 13.04,\n",
       " 'pricebandlower': 2394.25,\n",
       " 'sellQuantity5': 1.0,\n",
       " 'sellQuantity4': 1.0,\n",
       " 'sellQuantity3': 1.0,\n",
       " 'cm_adj_high_dt': '08-OCT-20',\n",
       " 'sellQuantity2': 2.0,\n",
       " 'dayLow': 2665.0,\n",
       " 'sellQuantity1': 234.0,\n",
       " 'quantityTraded': 740649.0,\n",
       " 'pChange': 1.53,\n",
       " 'totalTradedValue': 38839.09,\n",
       " 'deliveryToTradedQuantity': 63.79,\n",
       " 'totalBuyQuantity': 293888.0,\n",
       " 'averagePrice': 2687.35,\n",
       " 'indexVar': None,\n",
       " 'cm_ffm': 279503.88,\n",
       " 'purpose': 'BUYBACK',\n",
       " 'buyPrice2': 2700.05,\n",
       " 'secDate': '23-Nov-2020 10:00:00',\n",
       " 'buyPrice1': 2700.1,\n",
       " 'high52': 2885.0,\n",
       " 'previousClose': 2660.25,\n",
       " 'ndEndDate': None,\n",
       " 'low52': 1506.05,\n",
       " 'buyPrice4': 2699.95,\n",
       " 'buyPrice3': 2700.0,\n",
       " 'recordDate': '28-NOV-20',\n",
       " 'deliveryQuantity': 472495.0,\n",
       " 'buyPrice5': 2699.65,\n",
       " 'priceBand': 'No Band',\n",
       " 'extremeLossMargin': 3.5,\n",
       " 'cm_adj_low_dt': '13-MAR-20',\n",
       " 'varMargin': 13.04,\n",
       " 'sellPrice1': 2701.0,\n",
       " 'sellPrice2': 2701.15,\n",
       " 'totalTradedVolume': 1445256.0,\n",
       " 'sellPrice3': 2701.2,\n",
       " 'sellPrice4': 2701.25,\n",
       " 'sellPrice5': 2701.3,\n",
       " 'change': 40.75,\n",
       " 'surv_indicator': None,\n",
       " 'ndStartDate': None,\n",
       " 'buyQuantity4': 95.0,\n",
       " 'isExDateFlag': False,\n",
       " 'buyQuantity3': 70.0,\n",
       " 'buyQuantity2': 163.0,\n",
       " 'buyQuantity1': 102.0,\n",
       " 'series': 'EQ',\n",
       " 'faceValue': 1.0,\n",
       " 'buyQuantity5': 1.0,\n",
       " 'closePrice': 0.0,\n",
       " 'open': 2690.0,\n",
       " 'isinCode': 'INE467B01029',\n",
       " 'lastPrice': 2701.0}"
      ]
     },
     "execution_count": 10,
     "metadata": {},
     "output_type": "execute_result"
    }
   ],
   "source": [
    "tcs"
   ]
  },
  {
   "cell_type": "code",
   "execution_count": null,
   "metadata": {},
   "outputs": [],
   "source": []
  }
 ],
 "metadata": {
  "kernelspec": {
   "display_name": "Python 3",
   "language": "python",
   "name": "python3"
  },
  "language_info": {
   "codemirror_mode": {
    "name": "ipython",
    "version": 3
   },
   "file_extension": ".py",
   "mimetype": "text/x-python",
   "name": "python",
   "nbconvert_exporter": "python",
   "pygments_lexer": "ipython3",
   "version": "3.8.3"
  }
 },
 "nbformat": 4,
 "nbformat_minor": 4
}
